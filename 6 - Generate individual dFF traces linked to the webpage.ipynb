{
 "cells": [
  {
   "cell_type": "code",
   "execution_count": null,
   "id": "0ab74a2e",
   "metadata": {},
   "outputs": [],
   "source": [
    "import os\n",
    "import h5py\n",
    "import matplotlib.pyplot as plt\n",
    "import numpy as np\n",
    "from glob import glob\n",
    "import pandas as pd\n",
    "import seaborn as sns"
   ]
  },
  {
   "cell_type": "code",
   "execution_count": null,
   "id": "33e31bd6",
   "metadata": {},
   "outputs": [],
   "source": [
    "sumPath = r'Y:\\GECI_screening\\wHaloCaMP'\n",
    "dates = ['20230515_wHaloCaMP_raw','20230522_wHaloCaMP_raw']\n",
    "df_curr = pd.DataFrame()\n",
    "for date in dates:\n",
    "    data = glob(os.path.join(sumPath,'combo & single mutants 2023',date)+'\\\\*.pkl')[0]\n",
    "    df_temp = pd.read_pickle(data)\n",
    "    df_curr = pd.concat([df_curr,df_temp],axis=0)\n",
    "print(df_curr.shape)"
   ]
  },
  {
   "cell_type": "code",
   "execution_count": null,
   "id": "f63a8b2c",
   "metadata": {},
   "outputs": [],
   "source": [
    "# df.shape"
   ]
  },
  {
   "cell_type": "code",
   "execution_count": null,
   "id": "464685b6",
   "metadata": {},
   "outputs": [],
   "source": [
    "df_curr = df_curr.dropna()\n",
    "df_curr.shape"
   ]
  },
  {
   "cell_type": "code",
   "execution_count": null,
   "id": "90dcc827",
   "metadata": {},
   "outputs": [],
   "source": [
    "# df_csv = df_csv.dropna()\n",
    " \n",
    "# for c in df_csv.Construct.unique():\n",
    "#     df_temp = df_csv[df_csv['Construct']==c]\n",
    "#     if df_temp.Plate.unique().shape[0]!=1:\n",
    "#         print(c,df_temp.Plate.unique())\n",
    "\n",
    "# df_csv[df_csv['Construct']=='139.121']"
   ]
  },
  {
   "cell_type": "code",
   "execution_count": null,
   "id": "09524b06",
   "metadata": {},
   "outputs": [],
   "source": []
  },
  {
   "cell_type": "code",
   "execution_count": null,
   "id": "8cf0d649",
   "metadata": {},
   "outputs": [],
   "source": []
  },
  {
   "cell_type": "code",
   "execution_count": null,
   "id": "09eb2e0f",
   "metadata": {
    "scrolled": false
   },
   "outputs": [],
   "source": [
    "sns.set_style(\"whitegrid\")\n",
    "x = np.arange(1,1401)/206.23\n",
    "Stim = ['001FP','003FP','010FP','160FP']\n",
    "figPath = r'Z:\\GECIScreenData\\GECI_Imaging_Data\\wHaloCaMP\\summary\\dFF_traces_fig'\n",
    "\n",
    "for c in df_curr.Construct.unique():\n",
    "    if c in ['139dot1','141dot1']:\n",
    "        continue\n",
    "    print(c)\n",
    "    df_c = df_curr[df_curr.Construct==c]\n",
    "    \n",
    "    if df_c.Stim.unique().shape[0]!=4:\n",
    "        print(c,'Stim file missing')\n",
    "        continue\n",
    "        \n",
    "    for p in df_c.Plate.unique():\n",
    "        df_plot = df_c[(df_c.Plate==p)&(df_c.Curated=='False')&(df_c['Filter']=='EX 660/13, DM 677, EM 719/60')]\n",
    "        if len(df_plot) == 0:\n",
    "            print('p',p)\n",
    "            continue\n",
    "            \n",
    "#         if os.path.exists(os.path.join(figPath,df_plot.Date.unique()[0],p,c+'.png')):\n",
    "#             print('file exists!')\n",
    "#             continue\n",
    "            \n",
    "        fig = plt.figure(figsize=[12,4])\n",
    "        plt.rc('font', size=13)\n",
    "        i=1\n",
    "        for stim in Stim:\n",
    "            df_plot = df_c[(df_c.Plate==p)&(df_c['Stim']==stim)&(df_c.Curated=='False')&(df_c['Filter']=='EX 660/13, DM 677, EM 719/60')]\n",
    "            \n",
    "            ax = plt.subplot(1,4,i)\n",
    "\n",
    "            mean = np.mean(df_plot.DFF.to_list(),axis=0)*100\n",
    "            ax.plot(x,mean,color='k',alpha=0.6,label=c+' (%s)' %str(len(df_plot)))\n",
    "            err = np.std(df_plot.DFF.to_list(),axis=0)*100/np.sqrt(len(df_plot))\n",
    "            ax.fill_between(x,mean+err,mean-err,color = 'k',alpha=0.3)\n",
    "            \n",
    "            df_plot_control = df_curr[(df_curr['Plate']==p)&(df_curr['Construct']=='139dot1')&(df_curr['Stim']==stim)&(df_curr['Curated']=='False')&(df_curr['Filter']=='EX 660/13, DM 677, EM 719/60')]\n",
    "            if len(df_plot_control)==0:\n",
    "                df_plot_control = df_curr[(df_curr['Plate']==p)&(df_curr['Construct']=='141dot1')&(df_curr['Stim']==stim)&(df_curr['Curated']=='False')&(df_curr['Filter']=='EX 660/13, DM 677, EM 719/60')]\n",
    "                if len(df_plot_control)==0:\n",
    "                    print('no control', df_plot.Plate.unique()[0])\n",
    "                    continue\n",
    "            mean = np.mean(df_plot_control.DFF.to_list(),axis=0)*100\n",
    "            ax.plot(x,mean,color='r',alpha=0.6,label=df_plot_control['Construct'].unique()[0]+' (%s)' %str(len(df_plot_control)))\n",
    "            err = np.std(df_plot_control.DFF.to_list(),axis=0)*100/np.sqrt(len(df_plot))\n",
    "            ax.fill_between(x,mean+err,mean-err,color='r',alpha=0.3)\n",
    "            \n",
    "            if i==1:\n",
    "                ax.set_ylabel('\\u0394F/F0 (%)',size=14)\n",
    "                ax.legend(frameon=False)\n",
    "                \n",
    "            ax.set_title(Stim[i-1],size=14)\n",
    "            ax.get_yaxis().set_label_coords(-0.3,0.5) # Set coords for y label so the figure body size remains the same\n",
    "            ax.xaxis.set_label_coords(1,-0.05)               \n",
    "            ax.set_xlabel('S')         \n",
    "            i+=1\n",
    "        plt.tight_layout()\n",
    "        for d in df_plot.Date.unique():\n",
    "            savePath = os.path.join(figPath,d,p)\n",
    "            if not os.path.exists(savePath):\n",
    "                os.makedirs(savePath)\n",
    "            fig.savefig(savePath+'\\\\%s.png' %c,dpi=1200)\n",
    "            plt.show()\n",
    "            plt.close()"
   ]
  },
  {
   "cell_type": "code",
   "execution_count": null,
   "id": "0db13dea",
   "metadata": {},
   "outputs": [],
   "source": [
    "# df"
   ]
  },
  {
   "cell_type": "code",
   "execution_count": null,
   "id": "bfc55bcc",
   "metadata": {},
   "outputs": [],
   "source": [
    "# df_c.Filter.unique()"
   ]
  },
  {
   "cell_type": "code",
   "execution_count": null,
   "id": "49ee5c80",
   "metadata": {},
   "outputs": [],
   "source": [
    "# df_plot_control = df[(df['Plate']==df_plot.Plate.unique()[0])&(df['Construct_ID']=='139.1')&(df['Stim']==stim)&(df['Curated']=='False')]\n",
    "# df_plot_control"
   ]
  },
  {
   "cell_type": "code",
   "execution_count": null,
   "id": "e8950898",
   "metadata": {},
   "outputs": [],
   "source": [
    "# x = np.arange(1,1401)/206.23\n",
    "# ax = plt.subplot(111)\n",
    "# mean = np.mean(df_plot_control.DFF.to_list(),axis=0)*100\n",
    "# ax.plot(x,mean,color='k',alpha=0.6)\n",
    "# err = np.std(df_plot_control.DFF.to_list(),axis=0)*100/np.sqrt(len(df_plot))\n",
    "# ax.fill_between(x,mean+err,mean-err,color = 'k',alpha=0.3)"
   ]
  },
  {
   "cell_type": "code",
   "execution_count": null,
   "id": "1027f72c",
   "metadata": {},
   "outputs": [],
   "source": [
    "# df_plot"
   ]
  },
  {
   "cell_type": "markdown",
   "id": "11f3ced3",
   "metadata": {},
   "source": [
    "#### Count number of plots (constructs)"
   ]
  },
  {
   "cell_type": "code",
   "execution_count": null,
   "id": "960466ca",
   "metadata": {},
   "outputs": [],
   "source": [
    "imgPath = r'Z:\\GECIScreenData\\GECI_Imaging_Data\\wHaloCaMP\\summary\\dFF_traces_fig'\n",
    "datePath = [d for d in os.listdir(imgPath) if os.path.isdir(os.path.join(imgPath,d))]\n",
    "\n",
    "c = 0\n",
    "for d in datePath:\n",
    "    platePath = [p for p in os.listdir(os.path.join(imgPath,d)) if os.path.isdir(os.path.join(imgPath,d,p))]\n",
    "    for p in platePath:\n",
    "        img = glob(os.path.join(imgPath,d,p)+'\\\\*.png')\n",
    "        c+=len(img)\n",
    "c"
   ]
  }
 ],
 "metadata": {
  "kernelspec": {
   "display_name": "Python 3 (ipykernel)",
   "language": "python",
   "name": "python3"
  },
  "language_info": {
   "codemirror_mode": {
    "name": "ipython",
    "version": 3
   },
   "file_extension": ".py",
   "mimetype": "text/x-python",
   "name": "python",
   "nbconvert_exporter": "python",
   "pygments_lexer": "ipython3",
   "version": "3.8.8"
  }
 },
 "nbformat": 4,
 "nbformat_minor": 5
}
