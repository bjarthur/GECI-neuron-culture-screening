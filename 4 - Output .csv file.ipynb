{
 "cells": [
  {
   "cell_type": "code",
   "execution_count": 1,
   "id": "9a9a77d7",
   "metadata": {},
   "outputs": [],
   "source": [
    "import os\n",
    "import subprocess\n",
    "import h5py\n",
    "import matplotlib.pyplot as plt\n",
    "import string\n",
    "import numpy as np\n",
    "from glob import glob\n",
    "from skimage.io import imread\n",
    "from skimage.transform import downscale_local_mean\n",
    "import pandas as pd\n",
    "import seaborn as sns\n",
    "from pywavesurfer import ws\n",
    "from scipy.io import savemat,loadmat\n",
    "import numpy as np\n",
    "# From Process H5 file (duplicate modules deleted)\n",
    "from pywavesurfer import ws"
   ]
  },
  {
   "cell_type": "markdown",
   "id": "8426f8ca",
   "metadata": {},
   "source": [
    "- Filter data for ploting (date, curated well, dye, etc)"
   ]
  },
  {
   "cell_type": "code",
   "execution_count": 4,
   "id": "5e25f09c",
   "metadata": {},
   "outputs": [],
   "source": [
    "sumPath = r'Y:\\GECI_screening\\wHaloCaMP'\n",
    "dates = ['20230515_wHaloCaMP_raw','20230522_wHaloCaMP_raw']\n",
    "df = pd.DataFrame()\n",
    "for date in dates:\n",
    "    data = glob(os.path.join(sumPath,'combo & single mutants 2023',date)+'\\\\*.pkl')[0]\n",
    "    df_temp = pd.read_pickle(data)\n",
    "    df = pd.concat([df,df_temp],axis=0)"
   ]
  },
  {
   "cell_type": "code",
   "execution_count": 5,
   "id": "7b981e37",
   "metadata": {},
   "outputs": [],
   "source": [
    "# df.shape\n",
    "# df.head()\n",
    "# df\n",
    "# df.Construct.unique().shape\n",
    "# df.Construct.unique()\n",
    "# df.sort_values(by='Construct',ascending=True).Construct.unique()\n",
    "\n",
    "# Following code is checking if 139.1 and 141.1 ever co-existed in one plate\n",
    "df_test = df[df['Construct'].isin(['139dot1','141dot1'])]\n",
    "for p in df_test['Plate'].unique():\n",
    "    df_p = df_test[df_test['Plate']==p]\n",
    "    if df_p['Construct'].unique().shape[0]!=1:\n",
    "        print(df_p['Construct'].unique())"
   ]
  },
  {
   "cell_type": "markdown",
   "id": "aae51e6d",
   "metadata": {},
   "source": [
    "#### Output wHaloCaMP_norm.csv"
   ]
  },
  {
   "cell_type": "code",
   "execution_count": 30,
   "id": "756bf5da",
   "metadata": {},
   "outputs": [],
   "source": [
    "stim = '160FP'\n",
    "df_sel = df[(df['Curated']=='False')&(df['Stim']==stim)]"
   ]
  },
  {
   "cell_type": "code",
   "execution_count": 31,
   "id": "2adfd22b",
   "metadata": {},
   "outputs": [
    {
     "name": "stdout",
     "output_type": "stream",
     "text": [
      "(1660, 20)\n"
     ]
    },
    {
     "data": {
      "text/plain": [
       "(1520, 20)"
      ]
     },
     "execution_count": 31,
     "metadata": {},
     "output_type": "execute_result"
    }
   ],
   "source": [
    "print(df_sel.shape)\n",
    "df_sel = df_sel.dropna()\n",
    "df_sel.shape"
   ]
  },
  {
   "cell_type": "code",
   "execution_count": 32,
   "id": "a4ad3bf7",
   "metadata": {},
   "outputs": [],
   "source": [
    "df_plot = pd.DataFrame()\n",
    "for plate in df_sel.Plate.unique():\n",
    "    df_ctr = df_sel[(df_sel['Plate']==plate)&(df_sel['Construct']=='139dot1')&(df_sel['Stim']==stim)] \n",
    "    if len(df_ctr) == 0:\n",
    "        df_ctr = df_sel[(df_sel['Plate']==plate)&(df_sel['Construct']=='141dot1')&(df_sel['Stim']==stim)]\n",
    "\n",
    "    ctr_dff = df_ctr.dFF_peak.mean()\n",
    "    ctr_f0 = df_ctr.F0.mean()\n",
    "    ctr_rise = df_ctr.Half_rise.mean()\n",
    "    ctr_decay = df_ctr.Half_decay.mean()\n",
    "    \n",
    "    ctr_dff_sem = df_ctr.dFF_peak.sem()\n",
    "    ctr_f0_sem = df_ctr.F0.sem()\n",
    "    ctr_rise_sem = df_ctr.Half_rise.sem()\n",
    "    ctr_decay_sem = df_ctr.Half_decay.sem()\n",
    "    \n",
    "    for c in df_sel[(df_sel['Plate']==plate)&(df_sel['Construct']!='139dot1')&(df_sel['Construct']!='141dot1')].Construct.unique():\n",
    "        df_temp = pd.DataFrame()\n",
    "        df_c = df_sel[(df_sel['Plate']==plate)&(df_sel['Construct']==c)]\n",
    "        norm_dff = df_c.dFF_peak/ctr_dff\n",
    "        norm_f0 = df_c.F0/ctr_f0\n",
    "        norm_rise = df_c.Half_rise/ctr_rise\n",
    "        norm_decay = df_c.Half_decay/ctr_decay\n",
    "\n",
    "        df_temp['unnorm_dff'] = df_c.dFF_peak\n",
    "        df_temp['unnorm_f0'] = df_c.F0\n",
    "        df_temp['unnorm_rise'] = df_c.Half_rise\n",
    "        df_temp['unnorm_decay'] = df_c.Half_decay\n",
    "        \n",
    "        df_temp['ctr_dff'] = ctr_dff\n",
    "        df_temp['ctr_f0'] = ctr_f0\n",
    "        df_temp['ctr_rise'] = ctr_rise\n",
    "        df_temp['ctr_decay'] = ctr_decay\n",
    "        \n",
    "        df_temp['ctr_dff_sem'] = ctr_dff_sem\n",
    "        df_temp['ctr_f0_sem'] = ctr_f0_sem\n",
    "        df_temp['ctr_rise_sem'] = ctr_rise_sem\n",
    "        df_temp['ctr_decay_sem'] = ctr_decay_sem\n",
    "        \n",
    "        df_temp['norm_dff'] = norm_dff\n",
    "        df_temp['norm_f0'] = norm_f0\n",
    "        df_temp['norm_rise'] = norm_rise\n",
    "        df_temp['norm_decay'] = norm_decay\n",
    "        \n",
    "        df_temp['construct'] = c\n",
    "        df_temp['Date'] = df_c.Date.unique()[0]\n",
    "        df_temp['Plate'] = plate\n",
    "        df_temp['Stim'] = stim\n",
    "               \n",
    "        df_plot = pd.concat([df_plot,df_temp],axis=0,ignore_index=True)"
   ]
  },
  {
   "cell_type": "code",
   "execution_count": 33,
   "id": "00a5962e",
   "metadata": {
    "scrolled": false
   },
   "outputs": [
    {
     "data": {
      "text/plain": [
       "(1348, 20)"
      ]
     },
     "execution_count": 33,
     "metadata": {},
     "output_type": "execute_result"
    }
   ],
   "source": [
    "df_plot.shape\n",
    "# df_plot.dropna().shape\n",
    "# df_ctr"
   ]
  },
  {
   "cell_type": "code",
   "execution_count": 34,
   "id": "ec257c83",
   "metadata": {},
   "outputs": [
    {
     "name": "stderr",
     "output_type": "stream",
     "text": [
      "C:\\Users\\zhengj10\\Anaconda3\\lib\\site-packages\\numpy\\core\\fromnumeric.py:3723: RuntimeWarning: Degrees of freedom <= 0 for slice\n",
      "  return _methods._var(a, axis=axis, dtype=dtype, out=out, ddof=ddof,\n",
      "C:\\Users\\zhengj10\\Anaconda3\\lib\\site-packages\\numpy\\core\\_methods.py:254: RuntimeWarning: invalid value encountered in double_scalars\n",
      "  ret = ret.dtype.type(ret / rcount)\n"
     ]
    }
   ],
   "source": [
    "from scipy.stats import ttest_1samp\n",
    "\n",
    "df_plot_mean = pd.DataFrame()\n",
    "\n",
    "Construct = []\n",
    "Plate = []\n",
    "Date = []\n",
    "\n",
    "norm_dFF = []\n",
    "norm_F0 = []\n",
    "norm_Rise = []\n",
    "norm_Decay = []\n",
    "\n",
    "norm_dFF_sem = []\n",
    "norm_F0_sem = []\n",
    "norm_Rise_sem = []\n",
    "norm_Decay_sem = []\n",
    "\n",
    "norm_dFF_P = []\n",
    "norm_F0_P = []\n",
    "norm_Rise_P = []\n",
    "norm_Decay_P = []\n",
    "\n",
    "unnorm_dFF = []\n",
    "unnorm_F0 = []\n",
    "unnorm_Rise = []\n",
    "unnorm_Decay = []\n",
    "\n",
    "unnorm_dFF_sem = []\n",
    "unnorm_F0_sem = []\n",
    "unnorm_Rise_sem = []\n",
    "unnorm_Decay_sem = []\n",
    "\n",
    "ctr_dFF = []\n",
    "ctr_F0 = []\n",
    "ctr_Rise = []\n",
    "ctr_Decay = []\n",
    "\n",
    "ctr_dFF_sem = []\n",
    "ctr_F0_sem = []\n",
    "ctr_Rise_sem = []\n",
    "ctr_Decay_sem = []\n",
    "\n",
    "N = []\n",
    "\n",
    "for p in df_plot.Plate.unique():\n",
    "    df_plot_t = df_plot[df_plot['Plate']==p]\n",
    "    d = df_plot_t.Date.unique()[0]\n",
    "    for c in df_plot_t.construct.unique():\n",
    "        df_c = df_plot_t[df_plot_t['construct']==c]\n",
    "\n",
    "        unnorm_dff = df_c.unnorm_dff.mean()\n",
    "        unnorm_f0 = df_c.unnorm_f0.mean()\n",
    "        unnorm_rise = df_c.unnorm_rise.mean()\n",
    "        unnorm_decay = df_c.unnorm_decay.mean()\n",
    "\n",
    "        unnorm_dff_sem = df_c.unnorm_dff.sem()\n",
    "        unnorm_f0_sem = df_c.unnorm_f0.sem()\n",
    "        unnorm_rise_sem = df_c.unnorm_rise.sem()\n",
    "        unnorm_decay_sem = df_c.unnorm_decay.sem()\n",
    "\n",
    "        if len(df_c.ctr_dff.unique())!=1:\n",
    "            print(plate,c)\n",
    "        ctr_dff = df_c.ctr_dff.unique()[0]\n",
    "        ctr_f0 = df_c.ctr_f0.unique()[0]\n",
    "        ctr_rise = df_c.ctr_rise.unique()[0]\n",
    "        ctr_decay = df_c.ctr_decay.unique()[0]\n",
    "\n",
    "        ctr_dff_sem = df_c.ctr_dff_sem.unique()[0]\n",
    "        ctr_f0_sem = df_c.ctr_f0_sem.unique()[0]\n",
    "        ctr_rise_sem = df_c.ctr_rise_sem.unique()[0]\n",
    "        ctr_decay_sem = df_c.ctr_decay_sem.unique()[0]\n",
    "\n",
    "        norm_dff = df_c.norm_dff.mean()\n",
    "        norm_f0 = df_c.norm_f0.mean()\n",
    "        norm_rise = df_c.norm_rise.mean()\n",
    "        norm_decay = df_c.norm_decay.mean()\n",
    "\n",
    "        norm_dff_sem = df_c.norm_dff.sem()\n",
    "        norm_f0_sem = df_c.norm_f0.sem()\n",
    "        norm_rise_sem = df_c.norm_rise.sem()\n",
    "        norm_decay_sem = df_c.norm_decay.sem()\n",
    "\n",
    "        Construct.append(c)    \n",
    "        norm_dFF.append(norm_dff)\n",
    "        norm_F0.append(norm_f0)\n",
    "        norm_Rise.append(norm_rise)\n",
    "        norm_Decay.append(norm_decay)\n",
    "\n",
    "        norm_dFF_sem.append(norm_dff_sem)\n",
    "        norm_F0_sem.append(norm_f0_sem)\n",
    "        norm_Rise_sem.append(norm_rise_sem)\n",
    "        norm_Decay_sem.append(norm_decay_sem)\n",
    "\n",
    "        norm_dFF_P.append(ttest_1samp(df_c.norm_dff, 1, axis=0, alternative='greater')[1])\n",
    "        norm_F0_P.append(ttest_1samp(df_c.norm_f0, 1, axis=0, alternative='greater')[1])\n",
    "        norm_Rise_P.append(ttest_1samp(df_c.norm_rise, 1, axis=0, alternative='less')[1])\n",
    "        norm_Decay_P.append(ttest_1samp(df_c.norm_decay, 1, axis=0, alternative='less')[1])\n",
    "\n",
    "        unnorm_dFF.append(unnorm_dff)\n",
    "        unnorm_F0.append(unnorm_f0)\n",
    "        unnorm_Rise.append(unnorm_rise)\n",
    "        unnorm_Decay.append(unnorm_decay)\n",
    "\n",
    "        unnorm_dFF_sem.append(unnorm_dff_sem)\n",
    "        unnorm_F0_sem.append(unnorm_f0_sem)\n",
    "        unnorm_Rise_sem.append(unnorm_rise_sem)\n",
    "        unnorm_Decay_sem.append(unnorm_decay_sem)\n",
    "\n",
    "        ctr_dFF.append(ctr_dff)\n",
    "        ctr_F0.append(ctr_f0)\n",
    "        ctr_Rise.append(ctr_rise)\n",
    "        ctr_Decay.append(ctr_decay)\n",
    "\n",
    "        ctr_dFF_sem.append(ctr_dff_sem)\n",
    "        ctr_F0_sem.append(ctr_f0_sem)\n",
    "        ctr_Rise_sem.append(ctr_rise_sem)\n",
    "        ctr_Decay_sem.append(ctr_decay_sem)\n",
    "\n",
    "        N.append(len(df_c))\n",
    "        Plate.append(p)\n",
    "        Date.append(d)\n",
    "    \n",
    "df_plot_mean['Construct'] = Construct\n",
    "df_plot_mean['Date'] = Date\n",
    "df_plot_mean['Plate'] = Plate\n",
    "df_plot_mean['Stim'] = stim\n",
    "\n",
    "df_plot_mean['Norm \\u0394F/F0'] = norm_dFF\n",
    "df_plot_mean['Norm \\u0394F/F0 sem'] = norm_dFF_sem\n",
    "df_plot_mean['P val (Norm \\u0394F/F0)'] = norm_dFF_P\n",
    "\n",
    "df_plot_mean['Norm F0'] = norm_F0\n",
    "df_plot_mean['Norm F0 sem'] = norm_F0_sem\n",
    "df_plot_mean['P val (Norm F0)'] = norm_F0_P\n",
    "\n",
    "df_plot_mean['Norm half rise time'] = norm_Rise\n",
    "df_plot_mean['Norm half rise time sem'] = norm_Rise_sem\n",
    "df_plot_mean['P val (Norm half rise time)'] = norm_Rise_P\n",
    "\n",
    "df_plot_mean['Norm half decay time'] = norm_Decay\n",
    "df_plot_mean['Norm half decay time sem'] = norm_Decay_sem\n",
    "df_plot_mean['P val (Norm half decay time)'] = norm_Decay_P\n",
    "\n",
    "df_plot_mean['Unnorm \\u0394F/F0'] = unnorm_dFF\n",
    "df_plot_mean['Unnorm \\u0394F/F0 sem'] = unnorm_dFF_sem\n",
    "\n",
    "df_plot_mean['Unnorm F0'] = unnorm_F0\n",
    "df_plot_mean['Unnorm F0 sem'] = unnorm_F0_sem\n",
    "\n",
    "df_plot_mean['Unnorm half rise time'] = unnorm_Rise\n",
    "df_plot_mean['Unnorm half rise time sem'] = unnorm_Rise_sem\n",
    "\n",
    "df_plot_mean['Unnorm half decay time'] = unnorm_Decay\n",
    "df_plot_mean['Unnorm half decay time sem'] = unnorm_Decay_sem\n",
    "\n",
    "\n",
    "df_plot_mean['Ctr \\u0394F/F0'] = ctr_dFF\n",
    "df_plot_mean['Ctr \\u0394F/F0 sem'] = ctr_dFF_sem\n",
    "\n",
    "df_plot_mean['Ctr F0'] = ctr_F0\n",
    "df_plot_mean['Ctr F0 sem'] = ctr_F0_sem\n",
    "\n",
    "df_plot_mean['Ctr half rise time'] = ctr_Rise\n",
    "df_plot_mean['Ctr half rise time sem'] = ctr_Rise_sem\n",
    "\n",
    "df_plot_mean['Ctr half decay time'] = ctr_Decay\n",
    "df_plot_mean['Ctr half decay time sem'] = ctr_Decay_sem\n",
    "\n",
    "df_plot_mean['N'] = N"
   ]
  },
  {
   "cell_type": "code",
   "execution_count": 35,
   "id": "eb3a26b7",
   "metadata": {},
   "outputs": [],
   "source": [
    "# df_ben = pd.DataFrame() # Run only when processing 001FP data so following stimuli data don't overwrite"
   ]
  },
  {
   "cell_type": "code",
   "execution_count": 36,
   "id": "f92dcad0",
   "metadata": {},
   "outputs": [
    {
     "name": "stdout",
     "output_type": "stream",
     "text": [
      "(1110, 33)\n"
     ]
    },
    {
     "data": {
      "text/plain": [
       "(1480, 33)"
      ]
     },
     "execution_count": 36,
     "metadata": {},
     "output_type": "execute_result"
    }
   ],
   "source": [
    "print(df_ben.shape)\n",
    "df_ben = pd.concat([df_ben,df_plot_mean], axis=0, ignore_index=True)\n",
    "df_ben.shape"
   ]
  },
  {
   "cell_type": "code",
   "execution_count": 37,
   "id": "397cf8f4",
   "metadata": {},
   "outputs": [
    {
     "data": {
      "text/plain": [
       "(1468, 33)"
      ]
     },
     "execution_count": 37,
     "metadata": {},
     "output_type": "execute_result"
    }
   ],
   "source": [
    "df_ben.dropna().shape"
   ]
  },
  {
   "cell_type": "code",
   "execution_count": 41,
   "id": "2f3f1d44",
   "metadata": {},
   "outputs": [
    {
     "name": "stdout",
     "output_type": "stream",
     "text": [
      "(17588, 33)\n"
     ]
    },
    {
     "data": {
      "text/plain": [
       "array([ True,  True,  True,  True,  True,  True,  True,  True,  True,\n",
       "        True,  True,  True,  True,  True,  True,  True,  True,  True,\n",
       "        True,  True,  True,  True,  True,  True,  True,  True,  True,\n",
       "        True,  True,  True,  True,  True,  True])"
      ]
     },
     "execution_count": 41,
     "metadata": {},
     "output_type": "execute_result"
    }
   ],
   "source": [
    "df_csv = pd.read_csv(r'Z:\\GECIScreenData\\GECI_Imaging_Data\\wHaloCaMP\\summary\\wHaloCaMP_norm.csv')\n",
    "print(df_csv.shape)\n",
    "df_ben.columns==df_csv.columns # Need to manually delete unnamed column of df_csv"
   ]
  },
  {
   "cell_type": "code",
   "execution_count": 40,
   "id": "80caa2ef",
   "metadata": {},
   "outputs": [
    {
     "data": {
      "text/plain": [
       "Index(['Construct', 'Date', 'Plate', 'Stim', 'Norm ΔF/F0', 'Norm ΔF/F0 sem',\n",
       "       'P val (Norm ΔF/F0)', 'Norm F0', 'Norm F0 sem', 'P val (Norm F0)',\n",
       "       'Norm half rise time', 'Norm half rise time sem',\n",
       "       'P val (Norm half rise time)', 'Norm half decay time',\n",
       "       'Norm half decay time sem', 'P val (Norm half decay time)',\n",
       "       'Unnorm ΔF/F0', 'Unnorm ΔF/F0 sem', 'Unnorm F0', 'Unnorm F0 sem',\n",
       "       'Unnorm half rise time', 'Unnorm half rise time sem',\n",
       "       'Unnorm half decay time', 'Unnorm half decay time sem', 'Ctr ΔF/F0',\n",
       "       'Ctr ΔF/F0 sem', 'Ctr F0', 'Ctr F0 sem', 'Ctr half rise time',\n",
       "       'Ctr half rise time sem', 'Ctr half decay time',\n",
       "       'Ctr half decay time sem', 'N'],\n",
       "      dtype='object')"
      ]
     },
     "execution_count": 40,
     "metadata": {},
     "output_type": "execute_result"
    }
   ],
   "source": [
    "# df_ben.columns\n",
    "# df_csv.columns"
   ]
  },
  {
   "cell_type": "code",
   "execution_count": null,
   "id": "7f6bc383",
   "metadata": {},
   "outputs": [],
   "source": []
  },
  {
   "cell_type": "code",
   "execution_count": 42,
   "id": "899a44b7",
   "metadata": {},
   "outputs": [
    {
     "data": {
      "text/plain": [
       "(19068, 33)"
      ]
     },
     "execution_count": 42,
     "metadata": {},
     "output_type": "execute_result"
    }
   ],
   "source": [
    "df_ben = pd.concat([df_ben,df_csv],axis=0,ignore_index=True)\n",
    "df_ben.shape"
   ]
  },
  {
   "cell_type": "code",
   "execution_count": 43,
   "id": "bdf8a4ab",
   "metadata": {},
   "outputs": [
    {
     "name": "stdout",
     "output_type": "stream",
     "text": [
      "(19068, 33)\n"
     ]
    },
    {
     "data": {
      "text/plain": [
       "(19056, 33)"
      ]
     },
     "execution_count": 43,
     "metadata": {},
     "output_type": "execute_result"
    }
   ],
   "source": [
    "print(df_ben.shape) # NA value due to statistics based on low n\n",
    "df_ben = df_ben.dropna()\n",
    "df_ben = df_ben.sort_values(by=['Construct', 'Stim'],ascending = [True, True])\n",
    "df_ben.index = np.arange(len(df_ben))\n",
    "df_ben.shape"
   ]
  },
  {
   "cell_type": "code",
   "execution_count": null,
   "id": "c238ae1d",
   "metadata": {},
   "outputs": [],
   "source": [
    "df_ben.to_csv(r'Z:\\GECIScreenData\\GECI_Imaging_Data\\wHaloCaMP\\summary\\wHaloCaMP_norm.csv')"
   ]
  },
  {
   "cell_type": "code",
   "execution_count": null,
   "id": "05bcc9c0",
   "metadata": {},
   "outputs": [],
   "source": [
    "df_ben['Date'].unique()"
   ]
  },
  {
   "cell_type": "code",
   "execution_count": null,
   "id": "78b95c6f",
   "metadata": {},
   "outputs": [],
   "source": []
  }
 ],
 "metadata": {
  "kernelspec": {
   "display_name": "Python 3 (ipykernel)",
   "language": "python",
   "name": "python3"
  },
  "language_info": {
   "codemirror_mode": {
    "name": "ipython",
    "version": 3
   },
   "file_extension": ".py",
   "mimetype": "text/x-python",
   "name": "python",
   "nbconvert_exporter": "python",
   "pygments_lexer": "ipython3",
   "version": "3.8.8"
  }
 },
 "nbformat": 4,
 "nbformat_minor": 5
}
